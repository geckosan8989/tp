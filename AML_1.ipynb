{
  "cells": [
    {
      "cell_type": "code",
      "execution_count": null,
      "id": "dd6c108b",
      "metadata": {
        "id": "dd6c108b",
        "outputId": "3d4880de-2b43-4377-95c8-94ecef2d1d2b"
      },
      "outputs": [
        {
          "name": "stdout",
          "output_type": "stream",
          "text": [
            "Note: you may need to restart the kernel to use updated packages.\n"
          ]
        },
        {
          "name": "stderr",
          "output_type": "stream",
          "text": [
            "ERROR: Could not find a version that satisfies the requirement openjdk (from versions: none)\n",
            "ERROR: No matching distribution found for openjdk\n"
          ]
        }
      ],
      "source": [
        "pip install openjdk"
      ]
    },
    {
      "cell_type": "code",
      "execution_count": null,
      "id": "82d0714c",
      "metadata": {
        "id": "82d0714c",
        "outputId": "9b5b0d85-a8d8-4838-da1c-717b5c26acb8"
      },
      "outputs": [
        {
          "name": "stdout",
          "output_type": "stream",
          "text": [
            "Collecting pyspark\n",
            "  Downloading pyspark-3.5.0.tar.gz (316.9 MB)\n",
            "Collecting py4j==0.10.9.7\n",
            "  Downloading py4j-0.10.9.7-py2.py3-none-any.whl (200 kB)\n",
            "Building wheels for collected packages: pyspark\n",
            "  Building wheel for pyspark (setup.py): started\n",
            "Note: you may need to restart the kernel to use updated packages.  Building wheel for pyspark (setup.py): finished with status 'done'\n",
            "  Created wheel for pyspark: filename=pyspark-3.5.0-py2.py3-none-any.whl size=317425383 sha256=5fdda2bf1e6d0c0644a15e37842755c2a077810e3bd113af27524dfc42920398\n",
            "  Stored in directory: c:\\users\\cg-stats-pc58\\appdata\\local\\pip\\cache\\wheels\\57\\bd\\14\\ce9e21f2649298678d011fb8f71ed38ee70b42b94fef0be142\n",
            "Successfully built pyspark\n",
            "Installing collected packages: py4j, pyspark\n",
            "Successfully installed py4j-0.10.9.7 pyspark-3.5.0\n",
            "\n"
          ]
        }
      ],
      "source": [
        "pip install pyspark"
      ]
    },
    {
      "cell_type": "code",
      "execution_count": null,
      "id": "6f175f52",
      "metadata": {
        "id": "6f175f52",
        "outputId": "689c9518-a0d1-46a4-e12f-eb90985ca711"
      },
      "outputs": [
        {
          "name": "stdout",
          "output_type": "stream",
          "text": [
            "Collecting findspark\n",
            "  Downloading findspark-2.0.1-py2.py3-none-any.whl (4.4 kB)\n",
            "Installing collected packages: findspark\n",
            "Successfully installed findspark-2.0.1\n",
            "Note: you may need to restart the kernel to use updated packages.\n"
          ]
        }
      ],
      "source": [
        "pip install findspark"
      ]
    },
    {
      "cell_type": "code",
      "execution_count": null,
      "id": "953ca180",
      "metadata": {
        "id": "953ca180"
      },
      "outputs": [],
      "source": [
        "import findspark\n",
        "from pyspark.sql import SparkSession\n",
        "spark=SparkSession.builder.appName('Dataframe').getOrCreate()"
      ]
    },
    {
      "cell_type": "code",
      "execution_count": null,
      "id": "64a8a889",
      "metadata": {
        "id": "64a8a889"
      },
      "outputs": [],
      "source": [
        "df = spark.read.option('header','true').csv(r'C:\\Users\\CG-STATS-PC58\\Downloads\\titanic.csv')"
      ]
    },
    {
      "cell_type": "code",
      "execution_count": null,
      "id": "80efc6e7",
      "metadata": {
        "scrolled": true,
        "id": "80efc6e7",
        "outputId": "d839e667-101d-47b3-e4a6-3df3edac805b"
      },
      "outputs": [
        {
          "name": "stdout",
          "output_type": "stream",
          "text": [
            "root\n",
            " |-- PassengerId: string (nullable = true)\n",
            " |-- Survived: string (nullable = true)\n",
            " |-- Pclass: string (nullable = true)\n",
            " |-- Name: string (nullable = true)\n",
            " |-- Sex: string (nullable = true)\n",
            " |-- Age: string (nullable = true)\n",
            " |-- SibSp: string (nullable = true)\n",
            " |-- Parch: string (nullable = true)\n",
            " |-- Ticket: string (nullable = true)\n",
            " |-- Fare: string (nullable = true)\n",
            " |-- Cabin: string (nullable = true)\n",
            " |-- Embarked: string (nullable = true)\n",
            "\n"
          ]
        }
      ],
      "source": [
        "df.printSchema()"
      ]
    },
    {
      "cell_type": "code",
      "execution_count": null,
      "id": "c3ab07b8",
      "metadata": {
        "id": "c3ab07b8"
      },
      "outputs": [],
      "source": [
        "df1=spark.read.csv(r'C:\\Users\\CG-STATS-PC58\\Downloads\\titanic.csv',header=True,inferSchema=True)"
      ]
    },
    {
      "cell_type": "code",
      "execution_count": null,
      "id": "6133c634",
      "metadata": {
        "id": "6133c634",
        "outputId": "adcb1ca7-bb77-4b95-e0d5-555d48825a9d"
      },
      "outputs": [
        {
          "name": "stdout",
          "output_type": "stream",
          "text": [
            "root\n",
            " |-- PassengerId: integer (nullable = true)\n",
            " |-- Survived: integer (nullable = true)\n",
            " |-- Pclass: integer (nullable = true)\n",
            " |-- Name: string (nullable = true)\n",
            " |-- Sex: string (nullable = true)\n",
            " |-- Age: double (nullable = true)\n",
            " |-- SibSp: integer (nullable = true)\n",
            " |-- Parch: integer (nullable = true)\n",
            " |-- Ticket: string (nullable = true)\n",
            " |-- Fare: double (nullable = true)\n",
            " |-- Cabin: string (nullable = true)\n",
            " |-- Embarked: string (nullable = true)\n",
            "\n"
          ]
        }
      ],
      "source": [
        "df1.printSchema()"
      ]
    },
    {
      "cell_type": "code",
      "execution_count": null,
      "id": "97b05b98",
      "metadata": {
        "id": "97b05b98",
        "outputId": "ef8795e6-697a-4fe9-d92a-dbd17586c90b"
      },
      "outputs": [
        {
          "data": {
            "text/plain": [
              "DataFrame[Name: string]"
            ]
          },
          "execution_count": 12,
          "metadata": {},
          "output_type": "execute_result"
        }
      ],
      "source": [
        "df1.select('Name')"
      ]
    },
    {
      "cell_type": "code",
      "execution_count": null,
      "id": "ea075676",
      "metadata": {
        "id": "ea075676",
        "outputId": "4f4be592-b41d-4bef-dbf0-1f423a4e55f1"
      },
      "outputs": [
        {
          "name": "stdout",
          "output_type": "stream",
          "text": [
            "+--------------------+\n",
            "|                Name|\n",
            "+--------------------+\n",
            "|Braund, Mr. Owen ...|\n",
            "|Cumings, Mrs. Joh...|\n",
            "|Heikkinen, Miss. ...|\n",
            "|Futrelle, Mrs. Ja...|\n",
            "|Allen, Mr. Willia...|\n",
            "|    Moran, Mr. James|\n",
            "|McCarthy, Mr. Tim...|\n",
            "|Palsson, Master. ...|\n",
            "|Johnson, Mrs. Osc...|\n",
            "|Nasser, Mrs. Nich...|\n",
            "|Sandstrom, Miss. ...|\n",
            "|Bonnell, Miss. El...|\n",
            "|Saundercock, Mr. ...|\n",
            "|Andersson, Mr. An...|\n",
            "|Vestrom, Miss. Hu...|\n",
            "|Hewlett, Mrs. (Ma...|\n",
            "|Rice, Master. Eugene|\n",
            "|Williams, Mr. Cha...|\n",
            "|Vander Planke, Mr...|\n",
            "|Masselmani, Mrs. ...|\n",
            "+--------------------+\n",
            "only showing top 20 rows\n",
            "\n"
          ]
        }
      ],
      "source": [
        "df1.select('Name').show()"
      ]
    },
    {
      "cell_type": "code",
      "execution_count": null,
      "id": "1d3d98bf",
      "metadata": {
        "id": "1d3d98bf",
        "outputId": "a424bffc-b607-42fc-9b78-15827b8ca68e"
      },
      "outputs": [
        {
          "name": "stdout",
          "output_type": "stream",
          "text": [
            "+--------------------+----+\n",
            "|                Name| Age|\n",
            "+--------------------+----+\n",
            "|Braund, Mr. Owen ...|22.0|\n",
            "|Cumings, Mrs. Joh...|38.0|\n",
            "|Heikkinen, Miss. ...|26.0|\n",
            "|Futrelle, Mrs. Ja...|35.0|\n",
            "|Allen, Mr. Willia...|35.0|\n",
            "|    Moran, Mr. James|NULL|\n",
            "|McCarthy, Mr. Tim...|54.0|\n",
            "|Palsson, Master. ...| 2.0|\n",
            "|Johnson, Mrs. Osc...|27.0|\n",
            "|Nasser, Mrs. Nich...|14.0|\n",
            "|Sandstrom, Miss. ...| 4.0|\n",
            "|Bonnell, Miss. El...|58.0|\n",
            "|Saundercock, Mr. ...|20.0|\n",
            "|Andersson, Mr. An...|39.0|\n",
            "|Vestrom, Miss. Hu...|14.0|\n",
            "|Hewlett, Mrs. (Ma...|55.0|\n",
            "|Rice, Master. Eugene| 2.0|\n",
            "|Williams, Mr. Cha...|NULL|\n",
            "|Vander Planke, Mr...|31.0|\n",
            "|Masselmani, Mrs. ...|NULL|\n",
            "+--------------------+----+\n",
            "only showing top 20 rows\n",
            "\n"
          ]
        }
      ],
      "source": [
        "df1.select(['Name','Age']).show()"
      ]
    },
    {
      "cell_type": "code",
      "execution_count": null,
      "id": "a83f1eb4",
      "metadata": {
        "id": "a83f1eb4",
        "outputId": "17cb9770-91bd-401b-82f3-2bff466ef730"
      },
      "outputs": [
        {
          "data": {
            "text/plain": [
              "[('PassengerId', 'int'),\n",
              " ('Survived', 'int'),\n",
              " ('Pclass', 'int'),\n",
              " ('Name', 'string'),\n",
              " ('Sex', 'string'),\n",
              " ('Age', 'double'),\n",
              " ('SibSp', 'int'),\n",
              " ('Parch', 'int'),\n",
              " ('Ticket', 'string'),\n",
              " ('Fare', 'double'),\n",
              " ('Cabin', 'string'),\n",
              " ('Embarked', 'string')]"
            ]
          },
          "execution_count": 19,
          "metadata": {},
          "output_type": "execute_result"
        }
      ],
      "source": [
        "df1.dtypes"
      ]
    },
    {
      "cell_type": "code",
      "execution_count": null,
      "id": "a57220b1",
      "metadata": {
        "id": "a57220b1",
        "outputId": "ed569ce5-5fa2-48c1-8bc3-4b25aaec6343"
      },
      "outputs": [
        {
          "name": "stdout",
          "output_type": "stream",
          "text": [
            "+-------+-----------------+-------------------+------------------+--------------------+------+------------------+------------------+-------------------+------------------+-----------------+-----+--------+\n",
            "|summary|      PassengerId|           Survived|            Pclass|                Name|   Sex|               Age|             SibSp|              Parch|            Ticket|             Fare|Cabin|Embarked|\n",
            "+-------+-----------------+-------------------+------------------+--------------------+------+------------------+------------------+-------------------+------------------+-----------------+-----+--------+\n",
            "|  count|              891|                891|               891|                 891|   891|               714|               891|                891|               891|              891|  204|     889|\n",
            "|   mean|            446.0| 0.3838383838383838| 2.308641975308642|                NULL|  NULL| 29.69911764705882|0.5230078563411896|0.38159371492704824|260318.54916792738| 32.2042079685746| NULL|    NULL|\n",
            "| stddev|257.3538420152301|0.48659245426485753|0.8360712409770491|                NULL|  NULL|14.526497332334035|1.1027434322934315| 0.8060572211299488|471609.26868834975|49.69342859718089| NULL|    NULL|\n",
            "|    min|                1|                  0|                 1|\"Andersson, Mr. A...|female|              0.42|                 0|                  0|            110152|              0.0|  A10|       C|\n",
            "|    max|              891|                  1|                 3|van Melkebeke, Mr...|  male|              80.0|                 8|                  6|         WE/P 5735|         512.3292|    T|       S|\n",
            "+-------+-----------------+-------------------+------------------+--------------------+------+------------------+------------------+-------------------+------------------+-----------------+-----+--------+\n",
            "\n"
          ]
        }
      ],
      "source": [
        "df1.describe().show()"
      ]
    },
    {
      "cell_type": "code",
      "execution_count": null,
      "id": "c505aa45",
      "metadata": {
        "id": "c505aa45"
      },
      "outputs": [],
      "source": [
        "df1=df1.withColumn('ageafter2years',df1['Age']+2)"
      ]
    },
    {
      "cell_type": "code",
      "execution_count": null,
      "id": "9009b88e",
      "metadata": {
        "id": "9009b88e",
        "outputId": "d25429cc-e044-4cc4-887e-af7538c5a9bd"
      },
      "outputs": [
        {
          "name": "stdout",
          "output_type": "stream",
          "text": [
            "+-----------+--------+------+--------------------+------+----+-----+-----+----------------+-------+-----+--------+--------------+\n",
            "|PassengerId|Survived|Pclass|                Name|   Sex| Age|SibSp|Parch|          Ticket|   Fare|Cabin|Embarked|ageafter2years|\n",
            "+-----------+--------+------+--------------------+------+----+-----+-----+----------------+-------+-----+--------+--------------+\n",
            "|          1|       0|     3|Braund, Mr. Owen ...|  male|22.0|    1|    0|       A/5 21171|   7.25| NULL|       S|          24.0|\n",
            "|          2|       1|     1|Cumings, Mrs. Joh...|female|38.0|    1|    0|        PC 17599|71.2833|  C85|       C|          40.0|\n",
            "|          3|       1|     3|Heikkinen, Miss. ...|female|26.0|    0|    0|STON/O2. 3101282|  7.925| NULL|       S|          28.0|\n",
            "|          4|       1|     1|Futrelle, Mrs. Ja...|female|35.0|    1|    0|          113803|   53.1| C123|       S|          37.0|\n",
            "|          5|       0|     3|Allen, Mr. Willia...|  male|35.0|    0|    0|          373450|   8.05| NULL|       S|          37.0|\n",
            "|          6|       0|     3|    Moran, Mr. James|  male|NULL|    0|    0|          330877| 8.4583| NULL|       Q|          NULL|\n",
            "|          7|       0|     1|McCarthy, Mr. Tim...|  male|54.0|    0|    0|           17463|51.8625|  E46|       S|          56.0|\n",
            "|          8|       0|     3|Palsson, Master. ...|  male| 2.0|    3|    1|          349909| 21.075| NULL|       S|           4.0|\n",
            "|          9|       1|     3|Johnson, Mrs. Osc...|female|27.0|    0|    2|          347742|11.1333| NULL|       S|          29.0|\n",
            "|         10|       1|     2|Nasser, Mrs. Nich...|female|14.0|    1|    0|          237736|30.0708| NULL|       C|          16.0|\n",
            "|         11|       1|     3|Sandstrom, Miss. ...|female| 4.0|    1|    1|         PP 9549|   16.7|   G6|       S|           6.0|\n",
            "|         12|       1|     1|Bonnell, Miss. El...|female|58.0|    0|    0|          113783|  26.55| C103|       S|          60.0|\n",
            "|         13|       0|     3|Saundercock, Mr. ...|  male|20.0|    0|    0|       A/5. 2151|   8.05| NULL|       S|          22.0|\n",
            "|         14|       0|     3|Andersson, Mr. An...|  male|39.0|    1|    5|          347082| 31.275| NULL|       S|          41.0|\n",
            "|         15|       0|     3|Vestrom, Miss. Hu...|female|14.0|    0|    0|          350406| 7.8542| NULL|       S|          16.0|\n",
            "|         16|       1|     2|Hewlett, Mrs. (Ma...|female|55.0|    0|    0|          248706|   16.0| NULL|       S|          57.0|\n",
            "|         17|       0|     3|Rice, Master. Eugene|  male| 2.0|    4|    1|          382652| 29.125| NULL|       Q|           4.0|\n",
            "|         18|       1|     2|Williams, Mr. Cha...|  male|NULL|    0|    0|          244373|   13.0| NULL|       S|          NULL|\n",
            "|         19|       0|     3|Vander Planke, Mr...|female|31.0|    1|    0|          345763|   18.0| NULL|       S|          33.0|\n",
            "|         20|       1|     3|Masselmani, Mrs. ...|female|NULL|    0|    0|            2649|  7.225| NULL|       C|          NULL|\n",
            "+-----------+--------+------+--------------------+------+----+-----+-----+----------------+-------+-----+--------+--------------+\n",
            "only showing top 20 rows\n",
            "\n"
          ]
        }
      ],
      "source": [
        "df1.show()"
      ]
    },
    {
      "cell_type": "code",
      "execution_count": null,
      "id": "ebbb568c",
      "metadata": {
        "id": "ebbb568c"
      },
      "outputs": [],
      "source": [
        "df1=df1.drop('ageafter2years')"
      ]
    },
    {
      "cell_type": "code",
      "execution_count": null,
      "id": "318e761b",
      "metadata": {
        "scrolled": true,
        "id": "318e761b",
        "outputId": "631dff24-3a55-481d-ca7e-ff0502f4bd51"
      },
      "outputs": [
        {
          "name": "stdout",
          "output_type": "stream",
          "text": [
            "+-----------+--------+------+--------------------+------+----+-----+-----+----------------+-------+-----+--------+\n",
            "|PassengerId|Survived|Pclass|                Name|   Sex| Age|SibSp|Parch|          Ticket|   Fare|Cabin|Embarked|\n",
            "+-----------+--------+------+--------------------+------+----+-----+-----+----------------+-------+-----+--------+\n",
            "|          1|       0|     3|Braund, Mr. Owen ...|  male|22.0|    1|    0|       A/5 21171|   7.25| NULL|       S|\n",
            "|          2|       1|     1|Cumings, Mrs. Joh...|female|38.0|    1|    0|        PC 17599|71.2833|  C85|       C|\n",
            "|          3|       1|     3|Heikkinen, Miss. ...|female|26.0|    0|    0|STON/O2. 3101282|  7.925| NULL|       S|\n",
            "|          4|       1|     1|Futrelle, Mrs. Ja...|female|35.0|    1|    0|          113803|   53.1| C123|       S|\n",
            "|          5|       0|     3|Allen, Mr. Willia...|  male|35.0|    0|    0|          373450|   8.05| NULL|       S|\n",
            "|          6|       0|     3|    Moran, Mr. James|  male|NULL|    0|    0|          330877| 8.4583| NULL|       Q|\n",
            "|          7|       0|     1|McCarthy, Mr. Tim...|  male|54.0|    0|    0|           17463|51.8625|  E46|       S|\n",
            "|          8|       0|     3|Palsson, Master. ...|  male| 2.0|    3|    1|          349909| 21.075| NULL|       S|\n",
            "|          9|       1|     3|Johnson, Mrs. Osc...|female|27.0|    0|    2|          347742|11.1333| NULL|       S|\n",
            "|         10|       1|     2|Nasser, Mrs. Nich...|female|14.0|    1|    0|          237736|30.0708| NULL|       C|\n",
            "|         11|       1|     3|Sandstrom, Miss. ...|female| 4.0|    1|    1|         PP 9549|   16.7|   G6|       S|\n",
            "|         12|       1|     1|Bonnell, Miss. El...|female|58.0|    0|    0|          113783|  26.55| C103|       S|\n",
            "|         13|       0|     3|Saundercock, Mr. ...|  male|20.0|    0|    0|       A/5. 2151|   8.05| NULL|       S|\n",
            "|         14|       0|     3|Andersson, Mr. An...|  male|39.0|    1|    5|          347082| 31.275| NULL|       S|\n",
            "|         15|       0|     3|Vestrom, Miss. Hu...|female|14.0|    0|    0|          350406| 7.8542| NULL|       S|\n",
            "|         16|       1|     2|Hewlett, Mrs. (Ma...|female|55.0|    0|    0|          248706|   16.0| NULL|       S|\n",
            "|         17|       0|     3|Rice, Master. Eugene|  male| 2.0|    4|    1|          382652| 29.125| NULL|       Q|\n",
            "|         18|       1|     2|Williams, Mr. Cha...|  male|NULL|    0|    0|          244373|   13.0| NULL|       S|\n",
            "|         19|       0|     3|Vander Planke, Mr...|female|31.0|    1|    0|          345763|   18.0| NULL|       S|\n",
            "|         20|       1|     3|Masselmani, Mrs. ...|female|NULL|    0|    0|            2649|  7.225| NULL|       C|\n",
            "+-----------+--------+------+--------------------+------+----+-----+-----+----------------+-------+-----+--------+\n",
            "only showing top 20 rows\n",
            "\n"
          ]
        }
      ],
      "source": [
        "df1.show()"
      ]
    },
    {
      "cell_type": "code",
      "execution_count": null,
      "id": "b2730a9e",
      "metadata": {
        "id": "b2730a9e"
      },
      "outputs": [],
      "source": [
        "df1=df1.withColumnRenamed('Name','FullName')"
      ]
    },
    {
      "cell_type": "code",
      "execution_count": null,
      "id": "d73cd266",
      "metadata": {
        "id": "d73cd266",
        "outputId": "0109d735-2def-4ee2-fd0c-697ac8dc36f7"
      },
      "outputs": [
        {
          "data": {
            "text/plain": [
              "['PassengerId',\n",
              " 'Survived',\n",
              " 'Pclass',\n",
              " 'FullName',\n",
              " 'Sex',\n",
              " 'Age',\n",
              " 'SibSp',\n",
              " 'Parch',\n",
              " 'Ticket',\n",
              " 'Fare',\n",
              " 'Cabin',\n",
              " 'Embarked']"
            ]
          },
          "execution_count": 28,
          "metadata": {},
          "output_type": "execute_result"
        }
      ],
      "source": [
        "df1.columns"
      ]
    },
    {
      "cell_type": "code",
      "execution_count": null,
      "id": "79f3e282",
      "metadata": {
        "id": "79f3e282",
        "outputId": "3b37108d-2286-459f-9fd3-8f3b02bf07b6"
      },
      "outputs": [
        {
          "name": "stdout",
          "output_type": "stream",
          "text": [
            "+-----------+--------+------+--------------------+------+----+-----+-----+------------+--------+-------+--------+\n",
            "|PassengerId|Survived|Pclass|            FullName|   Sex| Age|SibSp|Parch|      Ticket|    Fare|  Cabin|Embarked|\n",
            "+-----------+--------+------+--------------------+------+----+-----+-----+------------+--------+-------+--------+\n",
            "|        178|       0|     1|Isham, Miss. Ann ...|female|50.0|    0|    0|    PC 17595| 28.7125|    C49|       C|\n",
            "|        260|       1|     2|Parrish, Mrs. (Lu...|female|50.0|    0|    1|      230433|    26.0|   NULL|       S|\n",
            "|        300|       1|     1|Baxter, Mrs. Jame...|female|50.0|    0|    1|    PC 17558|247.5208|B58 B60|       C|\n",
            "|        435|       0|     1|Silvey, Mr. Willi...|  male|50.0|    1|    0|       13507|    55.9|    E44|       S|\n",
            "|        459|       1|     2| Toomey, Miss. Ellen|female|50.0|    0|    0|F.C.C. 13531|    10.5|   NULL|       S|\n",
            "|        483|       0|     3|Rouse, Mr. Richar...|  male|50.0|    0|    0|    A/5 3594|    8.05|   NULL|       S|\n",
            "|        527|       1|     2|Ridsdale, Miss. Lucy|female|50.0|    0|    0| W./C. 14258|    10.5|   NULL|       S|\n",
            "|        545|       0|     1|Douglas, Mr. Walt...|  male|50.0|    1|    0|    PC 17761| 106.425|    C86|       C|\n",
            "|        661|       1|     1|Frauenthal, Dr. H...|  male|50.0|    2|    0|    PC 17611|  133.65|   NULL|       S|\n",
            "|        724|       0|     2|Hodges, Mr. Henry...|  male|50.0|    0|    0|      250643|    13.0|   NULL|       S|\n",
            "+-----------+--------+------+--------------------+------+----+-----+-----+------------+--------+-------+--------+\n",
            "\n"
          ]
        }
      ],
      "source": [
        "df1.filter(df1.Age == 50).show()"
      ]
    },
    {
      "cell_type": "code",
      "execution_count": null,
      "id": "17239f0e",
      "metadata": {
        "id": "17239f0e",
        "outputId": "9361df41-8849-4412-b61d-6185b3133cc1"
      },
      "outputs": [
        {
          "name": "stdout",
          "output_type": "stream",
          "text": [
            "+-----------+--------+------+--------------------+------+----+-----+-----+----------------+-------+-----+--------+\n",
            "|PassengerId|Survived|Pclass|            FullName|   Sex| Age|SibSp|Parch|          Ticket|   Fare|Cabin|Embarked|\n",
            "+-----------+--------+------+--------------------+------+----+-----+-----+----------------+-------+-----+--------+\n",
            "|          1|       0|     3|Braund, Mr. Owen ...|  male|22.0|    1|    0|       A/5 21171|   7.25| NULL|       S|\n",
            "|          2|       1|     1|Cumings, Mrs. Joh...|female|38.0|    1|    0|        PC 17599|71.2833|  C85|       C|\n",
            "|          3|       1|     3|Heikkinen, Miss. ...|female|26.0|    0|    0|STON/O2. 3101282|  7.925| NULL|       S|\n",
            "|          4|       1|     1|Futrelle, Mrs. Ja...|female|35.0|    1|    0|          113803|   53.1| C123|       S|\n",
            "|          5|       0|     3|Allen, Mr. Willia...|  male|35.0|    0|    0|          373450|   8.05| NULL|       S|\n",
            "|          7|       0|     1|McCarthy, Mr. Tim...|  male|54.0|    0|    0|           17463|51.8625|  E46|       S|\n",
            "|          8|       0|     3|Palsson, Master. ...|  male| 2.0|    3|    1|          349909| 21.075| NULL|       S|\n",
            "|          9|       1|     3|Johnson, Mrs. Osc...|female|27.0|    0|    2|          347742|11.1333| NULL|       S|\n",
            "|         10|       1|     2|Nasser, Mrs. Nich...|female|14.0|    1|    0|          237736|30.0708| NULL|       C|\n",
            "|         11|       1|     3|Sandstrom, Miss. ...|female| 4.0|    1|    1|         PP 9549|   16.7|   G6|       S|\n",
            "|         12|       1|     1|Bonnell, Miss. El...|female|58.0|    0|    0|          113783|  26.55| C103|       S|\n",
            "|         13|       0|     3|Saundercock, Mr. ...|  male|20.0|    0|    0|       A/5. 2151|   8.05| NULL|       S|\n",
            "|         14|       0|     3|Andersson, Mr. An...|  male|39.0|    1|    5|          347082| 31.275| NULL|       S|\n",
            "|         15|       0|     3|Vestrom, Miss. Hu...|female|14.0|    0|    0|          350406| 7.8542| NULL|       S|\n",
            "|         16|       1|     2|Hewlett, Mrs. (Ma...|female|55.0|    0|    0|          248706|   16.0| NULL|       S|\n",
            "|         17|       0|     3|Rice, Master. Eugene|  male| 2.0|    4|    1|          382652| 29.125| NULL|       Q|\n",
            "|         19|       0|     3|Vander Planke, Mr...|female|31.0|    1|    0|          345763|   18.0| NULL|       S|\n",
            "|         21|       0|     2|Fynney, Mr. Joseph J|  male|35.0|    0|    0|          239865|   26.0| NULL|       S|\n",
            "|         22|       1|     2|Beesley, Mr. Lawr...|  male|34.0|    0|    0|          248698|   13.0|  D56|       S|\n",
            "|         23|       1|     3|\"McGowan, Miss. A...|female|15.0|    0|    0|          330923| 8.0292| NULL|       Q|\n",
            "+-----------+--------+------+--------------------+------+----+-----+-----+----------------+-------+-----+--------+\n",
            "only showing top 20 rows\n",
            "\n"
          ]
        }
      ],
      "source": [
        "df1.filter(df1.Age != 50).show()"
      ]
    },
    {
      "cell_type": "code",
      "execution_count": null,
      "id": "36eb6c64",
      "metadata": {
        "id": "36eb6c64",
        "outputId": "b53d4c04-bcd9-44c8-b87f-80c4550cdba6"
      },
      "outputs": [
        {
          "name": "stdout",
          "output_type": "stream",
          "text": [
            "+------+--------------------+\n",
            "|Pclass|            FullName|\n",
            "+------+--------------------+\n",
            "|     1|Cumings, Mrs. Joh...|\n",
            "|     1|Futrelle, Mrs. Ja...|\n",
            "|     1|McCarthy, Mr. Tim...|\n",
            "|     1|Bonnell, Miss. El...|\n",
            "|     1|Sloper, Mr. Willi...|\n",
            "|     1|Fortune, Mr. Char...|\n",
            "|     1|Uruchurtu, Don. M...|\n",
            "|     1|Spencer, Mrs. Wil...|\n",
            "|     1|Meyer, Mr. Edgar ...|\n",
            "|     1|Holverson, Mr. Al...|\n",
            "|     1|Harper, Mrs. Henr...|\n",
            "|     1|Ostby, Mr. Engelh...|\n",
            "|     1|   Woolner, Mr. Hugh|\n",
            "|     1| Icard, Miss. Amelie|\n",
            "|     1|Harris, Mr. Henry...|\n",
            "|     1|Stewart, Mr. Albe...|\n",
            "|     1|Carrau, Mr. Franc...|\n",
            "|     1|Fortune, Miss. Ma...|\n",
            "|     1|Chaffee, Mr. Herb...|\n",
            "|     1|Goldschmidt, Mr. ...|\n",
            "+------+--------------------+\n",
            "only showing top 20 rows\n",
            "\n"
          ]
        }
      ],
      "source": [
        "df1.filter(df1.Pclass == 1).select(['Pclass','FullName']).show()"
      ]
    },
    {
      "cell_type": "code",
      "execution_count": null,
      "id": "14ebfcc3",
      "metadata": {
        "id": "14ebfcc3",
        "outputId": "ed7d0ce2-28ec-443e-c6fe-848c17a5e1ab"
      },
      "outputs": [
        {
          "name": "stdout",
          "output_type": "stream",
          "text": [
            "+-----------+--------+------+--------------------+------+----+-----+-----+-----------+--------+-----+--------+\n",
            "|PassengerId|Survived|Pclass|            FullName|   Sex| Age|SibSp|Parch|     Ticket|    Fare|Cabin|Embarked|\n",
            "+-----------+--------+------+--------------------+------+----+-----+-----+-----------+--------+-----+--------+\n",
            "|          7|       0|     1|McCarthy, Mr. Tim...|  male|54.0|    0|    0|      17463| 51.8625|  E46|       S|\n",
            "|         12|       1|     1|Bonnell, Miss. El...|female|58.0|    0|    0|     113783|   26.55| C103|       S|\n",
            "|         16|       1|     2|Hewlett, Mrs. (Ma...|female|55.0|    0|    0|     248706|    16.0| NULL|       S|\n",
            "|         34|       0|     2|Wheadon, Mr. Edwa...|  male|66.0|    0|    0| C.A. 24579|    10.5| NULL|       S|\n",
            "|         55|       0|     1|Ostby, Mr. Engelh...|  male|65.0|    0|    1|     113509| 61.9792|  B30|       C|\n",
            "|         95|       0|     3|   Coxon, Mr. Daniel|  male|59.0|    0|    0|     364500|    7.25| NULL|       S|\n",
            "|         97|       0|     1|Goldschmidt, Mr. ...|  male|71.0|    0|    0|   PC 17754| 34.6542|   A5|       C|\n",
            "|        117|       0|     3|Connors, Mr. Patrick|  male|70.5|    0|    0|     370369|    7.75| NULL|       Q|\n",
            "|        125|       0|     1|White, Mr. Perciv...|  male|54.0|    0|    1|      35281| 77.2875|  D26|       S|\n",
            "|        151|       0|     2|Bateman, Rev. Rob...|  male|51.0|    0|    0|S.O.P. 1166|  12.525| NULL|       S|\n",
            "|        153|       0|     3|    Meo, Mr. Alfonzo|  male|55.5|    0|    0| A.5. 11206|    8.05| NULL|       S|\n",
            "|        156|       0|     1|Williams, Mr. Cha...|  male|51.0|    0|    1|   PC 17597| 61.3792| NULL|       C|\n",
            "|        171|       0|     1|Van der hoef, Mr....|  male|61.0|    0|    0|     111240|    33.5|  B19|       S|\n",
            "|        175|       0|     1|Smith, Mr. James ...|  male|56.0|    0|    0|      17764| 30.6958|   A7|       C|\n",
            "|        196|       1|     1|Lurette, Miss. Elise|female|58.0|    0|    0|   PC 17569|146.5208|  B80|       C|\n",
            "|        223|       0|     3|Green, Mr. George...|  male|51.0|    0|    0|      21440|    8.05| NULL|       S|\n",
            "|        233|       0|     2|Sjostedt, Mr. Ern...|  male|59.0|    0|    0|     237442|    13.5| NULL|       S|\n",
            "|        250|       0|     2|Carter, Rev. Erne...|  male|54.0|    1|    0|     244252|    26.0| NULL|       S|\n",
            "|        253|       0|     1|Stead, Mr. Willia...|  male|62.0|    0|    0|     113514|   26.55|  C87|       S|\n",
            "|        263|       0|     1|   Taussig, Mr. Emil|  male|52.0|    1|    1|     110413|   79.65|  E67|       S|\n",
            "+-----------+--------+------+--------------------+------+----+-----+-----+-----------+--------+-----+--------+\n",
            "only showing top 20 rows\n",
            "\n"
          ]
        }
      ],
      "source": [
        "#\n",
        "df1.filter((df1.Age>50) & (df1.Embarked != 'c')).show()."
      ]
    },
    {
      "cell_type": "code",
      "execution_count": null,
      "id": "a1c3fd63",
      "metadata": {
        "id": "a1c3fd63",
        "outputId": "33016367-2b8e-4b2c-d918-5bd90bf48e1d"
      },
      "outputs": [
        {
          "name": "stdout",
          "output_type": "stream",
          "text": [
            "+-----------+--------+------+--------------------+------+----+-----+-----+----------------+-------+-----+--------+\n",
            "|PassengerId|Survived|Pclass|            FullName|   Sex| Age|SibSp|Parch|          Ticket|   Fare|Cabin|Embarked|\n",
            "+-----------+--------+------+--------------------+------+----+-----+-----+----------------+-------+-----+--------+\n",
            "|          1|       0|     3|Braund, Mr. Owen ...|  male|22.0|    1|    0|       A/5 21171|   7.25| NULL|       S|\n",
            "|          3|       1|     3|Heikkinen, Miss. ...|female|26.0|    0|    0|STON/O2. 3101282|  7.925| NULL|       S|\n",
            "|          4|       1|     1|Futrelle, Mrs. Ja...|female|35.0|    1|    0|          113803|   53.1| C123|       S|\n",
            "|          5|       0|     3|Allen, Mr. Willia...|  male|35.0|    0|    0|          373450|   8.05| NULL|       S|\n",
            "|          7|       0|     1|McCarthy, Mr. Tim...|  male|54.0|    0|    0|           17463|51.8625|  E46|       S|\n",
            "|          8|       0|     3|Palsson, Master. ...|  male| 2.0|    3|    1|          349909| 21.075| NULL|       S|\n",
            "|          9|       1|     3|Johnson, Mrs. Osc...|female|27.0|    0|    2|          347742|11.1333| NULL|       S|\n",
            "|         11|       1|     3|Sandstrom, Miss. ...|female| 4.0|    1|    1|         PP 9549|   16.7|   G6|       S|\n",
            "|         12|       1|     1|Bonnell, Miss. El...|female|58.0|    0|    0|          113783|  26.55| C103|       S|\n",
            "|         13|       0|     3|Saundercock, Mr. ...|  male|20.0|    0|    0|       A/5. 2151|   8.05| NULL|       S|\n",
            "|         14|       0|     3|Andersson, Mr. An...|  male|39.0|    1|    5|          347082| 31.275| NULL|       S|\n",
            "|         15|       0|     3|Vestrom, Miss. Hu...|female|14.0|    0|    0|          350406| 7.8542| NULL|       S|\n",
            "|         16|       1|     2|Hewlett, Mrs. (Ma...|female|55.0|    0|    0|          248706|   16.0| NULL|       S|\n",
            "|         17|       0|     3|Rice, Master. Eugene|  male| 2.0|    4|    1|          382652| 29.125| NULL|       Q|\n",
            "|         19|       0|     3|Vander Planke, Mr...|female|31.0|    1|    0|          345763|   18.0| NULL|       S|\n",
            "|         21|       0|     2|Fynney, Mr. Joseph J|  male|35.0|    0|    0|          239865|   26.0| NULL|       S|\n",
            "|         22|       1|     2|Beesley, Mr. Lawr...|  male|34.0|    0|    0|          248698|   13.0|  D56|       S|\n",
            "|         23|       1|     3|\"McGowan, Miss. A...|female|15.0|    0|    0|          330923| 8.0292| NULL|       Q|\n",
            "|         24|       1|     1|Sloper, Mr. Willi...|  male|28.0|    0|    0|          113788|   35.5|   A6|       S|\n",
            "|         25|       0|     3|Palsson, Miss. To...|female| 8.0|    3|    1|          349909| 21.075| NULL|       S|\n",
            "+-----------+--------+------+--------------------+------+----+-----+-----+----------------+-------+-----+--------+\n",
            "only showing top 20 rows\n",
            "\n"
          ]
        }
      ],
      "source": [
        "df1.filter((df1.Age != 50) & ((df1.Embarked != 'C'))).show()"
      ]
    },
    {
      "cell_type": "code",
      "execution_count": null,
      "id": "1dc58afe",
      "metadata": {
        "id": "1dc58afe",
        "outputId": "3d125244-eb11-4910-85ca-1a1339ef1f91"
      },
      "outputs": [
        {
          "name": "stdout",
          "output_type": "stream",
          "text": [
            "+-----------+--------+------+--------------------+------+----+-----+-----+--------+--------+-----+--------+\n",
            "|PassengerId|Survived|Pclass|            FullName|   Sex| Age|SibSp|Parch|  Ticket|    Fare|Cabin|Embarked|\n",
            "+-----------+--------+------+--------------------+------+----+-----+-----+--------+--------+-----+--------+\n",
            "|        326|       1|     1|Young, Miss. Mari...|female|36.0|    0|    0|PC 17760|135.6333|  C32|       C|\n",
            "|        460|       0|     3|O'Connor, Mr. Mau...|  male|NULL|    0|    0|  371060|    7.75| NULL|       Q|\n",
            "|        724|       0|     2|Hodges, Mr. Henry...|  male|50.0|    0|    0|  250643|    13.0| NULL|       S|\n",
            "|        838|       0|     3| Sirota, Mr. Maurice|  male|NULL|    0|    0|  392092|    8.05| NULL|       S|\n",
            "+-----------+--------+------+--------------------+------+----+-----+-----+--------+--------+-----+--------+\n",
            "\n"
          ]
        }
      ],
      "source": [
        "df1.filter(df1.FullName.rlike(\"(?i)^*Rice$\")).show()"
      ]
    },
    {
      "cell_type": "code",
      "execution_count": null,
      "id": "f7e6abee",
      "metadata": {
        "id": "f7e6abee",
        "outputId": "e5477759-efb7-4533-840e-864818d27790"
      },
      "outputs": [
        {
          "name": "stdout",
          "output_type": "stream",
          "text": [
            "+-----------+--------+------+--------------------+------+----+-----+-----+----------------+-------+-----+--------+\n",
            "|PassengerId|Survived|Pclass|            FullName|   Sex| Age|SibSp|Parch|          Ticket|   Fare|Cabin|Embarked|\n",
            "+-----------+--------+------+--------------------+------+----+-----+-----+----------------+-------+-----+--------+\n",
            "|          1|       0|     3|Braund, Mr. Owen ...|  male|22.0|    1|    0|       A/5 21171|   7.25| NULL|       S|\n",
            "|          2|       1|     1|Cumings, Mrs. Joh...|female|38.0|    1|    0|        PC 17599|71.2833|  C85|       C|\n",
            "|          3|       1|     3|Heikkinen, Miss. ...|female|26.0|    0|    0|STON/O2. 3101282|  7.925| NULL|       S|\n",
            "|          4|       1|     1|Futrelle, Mrs. Ja...|female|35.0|    1|    0|          113803|   53.1| C123|       S|\n",
            "|          5|       0|     3|Allen, Mr. Willia...|  male|35.0|    0|    0|          373450|   8.05| NULL|       S|\n",
            "|          6|       0|     3|    Moran, Mr. James|  male|NULL|    0|    0|          330877| 8.4583| NULL|       Q|\n",
            "|          7|       0|     1|McCarthy, Mr. Tim...|  male|54.0|    0|    0|           17463|51.8625|  E46|       S|\n",
            "|          8|       0|     3|Palsson, Master. ...|  male| 2.0|    3|    1|          349909| 21.075| NULL|       S|\n",
            "|          9|       1|     3|Johnson, Mrs. Osc...|female|27.0|    0|    2|          347742|11.1333| NULL|       S|\n",
            "|         10|       1|     2|Nasser, Mrs. Nich...|female|14.0|    1|    0|          237736|30.0708| NULL|       C|\n",
            "|         11|       1|     3|Sandstrom, Miss. ...|female| 4.0|    1|    1|         PP 9549|   16.7|   G6|       S|\n",
            "|         12|       1|     1|Bonnell, Miss. El...|female|58.0|    0|    0|          113783|  26.55| C103|       S|\n",
            "|         13|       0|     3|Saundercock, Mr. ...|  male|20.0|    0|    0|       A/5. 2151|   8.05| NULL|       S|\n",
            "|         14|       0|     3|Andersson, Mr. An...|  male|39.0|    1|    5|          347082| 31.275| NULL|       S|\n",
            "|         15|       0|     3|Vestrom, Miss. Hu...|female|14.0|    0|    0|          350406| 7.8542| NULL|       S|\n",
            "|         16|       1|     2|Hewlett, Mrs. (Ma...|female|55.0|    0|    0|          248706|   16.0| NULL|       S|\n",
            "|         17|       0|     3|Rice, Master. Eugene|  male| 2.0|    4|    1|          382652| 29.125| NULL|       Q|\n",
            "|         18|       1|     2|Williams, Mr. Cha...|  male|NULL|    0|    0|          244373|   13.0| NULL|       S|\n",
            "|         19|       0|     3|Vander Planke, Mr...|female|31.0|    1|    0|          345763|   18.0| NULL|       S|\n",
            "|         20|       1|     3|Masselmani, Mrs. ...|female|NULL|    0|    0|            2649|  7.225| NULL|       C|\n",
            "+-----------+--------+------+--------------------+------+----+-----+-----+----------------+-------+-----+--------+\n",
            "only showing top 20 rows\n",
            "\n"
          ]
        }
      ],
      "source": [
        "li=[\"Rice\",\"Nicola\"]\n",
        "df1.filter(~df1.FullName.isin(li)).show()"
      ]
    },
    {
      "cell_type": "code",
      "execution_count": null,
      "id": "4e46584e",
      "metadata": {
        "id": "4e46584e"
      },
      "outputs": [],
      "source": [
        "df1.createOrReplaceTempView(\"titanic\")"
      ]
    },
    {
      "cell_type": "code",
      "execution_count": null,
      "id": "ecdea798",
      "metadata": {
        "id": "ecdea798",
        "outputId": "16947628-39fd-42aa-8387-d77d5c91de3b"
      },
      "outputs": [
        {
          "name": "stdout",
          "output_type": "stream",
          "text": [
            "+--------------------+\n",
            "|            FullName|\n",
            "+--------------------+\n",
            "|Braund, Mr. Owen ...|\n",
            "|Cumings, Mrs. Joh...|\n",
            "|Heikkinen, Miss. ...|\n",
            "|Futrelle, Mrs. Ja...|\n",
            "|Allen, Mr. Willia...|\n",
            "|    Moran, Mr. James|\n",
            "|McCarthy, Mr. Tim...|\n",
            "|Palsson, Master. ...|\n",
            "|Johnson, Mrs. Osc...|\n",
            "|Nasser, Mrs. Nich...|\n",
            "|Sandstrom, Miss. ...|\n",
            "|Bonnell, Miss. El...|\n",
            "|Saundercock, Mr. ...|\n",
            "|Andersson, Mr. An...|\n",
            "|Vestrom, Miss. Hu...|\n",
            "|Hewlett, Mrs. (Ma...|\n",
            "|Rice, Master. Eugene|\n",
            "|Williams, Mr. Cha...|\n",
            "|Vander Planke, Mr...|\n",
            "|Masselmani, Mrs. ...|\n",
            "+--------------------+\n",
            "only showing top 20 rows\n",
            "\n"
          ]
        }
      ],
      "source": [
        "spark.sql(\"select FullName from titanic\").show()"
      ]
    },
    {
      "cell_type": "code",
      "execution_count": null,
      "id": "fb200be5",
      "metadata": {
        "id": "fb200be5"
      },
      "outputs": [],
      "source": [
        "#the name and class of the people who didtnt survive & where travelling in second class"
      ]
    },
    {
      "cell_type": "code",
      "execution_count": null,
      "id": "14e8caf0",
      "metadata": {
        "id": "14e8caf0",
        "outputId": "db5ac0eb-7253-45cc-feb9-39fb6f2e43c7"
      },
      "outputs": [
        {
          "name": "stdout",
          "output_type": "stream",
          "text": [
            "+--------------------+------+\n",
            "|            FullName|Pclass|\n",
            "+--------------------+------+\n",
            "|Braund, Mr. Owen ...|     3|\n",
            "|Cumings, Mrs. Joh...|     1|\n",
            "|Heikkinen, Miss. ...|     3|\n",
            "|Futrelle, Mrs. Ja...|     1|\n",
            "|Allen, Mr. Willia...|     3|\n",
            "|    Moran, Mr. James|     3|\n",
            "|McCarthy, Mr. Tim...|     1|\n",
            "|Palsson, Master. ...|     3|\n",
            "|Johnson, Mrs. Osc...|     3|\n",
            "|Nasser, Mrs. Nich...|     2|\n",
            "|Sandstrom, Miss. ...|     3|\n",
            "|Bonnell, Miss. El...|     1|\n",
            "|Saundercock, Mr. ...|     3|\n",
            "|Andersson, Mr. An...|     3|\n",
            "|Vestrom, Miss. Hu...|     3|\n",
            "|Hewlett, Mrs. (Ma...|     2|\n",
            "|Rice, Master. Eugene|     3|\n",
            "|Williams, Mr. Cha...|     2|\n",
            "|Vander Planke, Mr...|     3|\n",
            "|Masselmani, Mrs. ...|     3|\n",
            "+--------------------+------+\n",
            "only showing top 20 rows\n",
            "\n"
          ]
        }
      ],
      "source": [
        "spark.sql(\"select FullName,Pclass from titanic where Pclass =2 & Survived = '0'\").show()"
      ]
    },
    {
      "cell_type": "code",
      "execution_count": null,
      "id": "ac55ec99",
      "metadata": {
        "id": "ac55ec99"
      },
      "outputs": [],
      "source": [
        "#u have to tell every class how many people travel"
      ]
    },
    {
      "cell_type": "code",
      "execution_count": null,
      "id": "360086ae",
      "metadata": {
        "id": "360086ae",
        "outputId": "4cb126af-cba4-45c8-80a5-6f4662f70d77"
      },
      "outputs": [
        {
          "name": "stdout",
          "output_type": "stream",
          "text": [
            "+-------------+------+\n",
            "|count(Pclass)|Pclass|\n",
            "+-------------+------+\n",
            "|          216|     1|\n",
            "|          491|     3|\n",
            "|          184|     2|\n",
            "+-------------+------+\n",
            "\n"
          ]
        }
      ],
      "source": [
        "spark.sql('select count(Pclass),Pclass from titanic group by Pclass').show()"
      ]
    },
    {
      "cell_type": "code",
      "execution_count": null,
      "id": "e064d318",
      "metadata": {
        "id": "e064d318",
        "outputId": "f56b6d55-0350-45de-a222-374103258962"
      },
      "outputs": [
        {
          "name": "stdout",
          "output_type": "stream",
          "text": [
            "+------+---------------+\n",
            "|Pclass|count(survived)|\n",
            "+------+---------------+\n",
            "|     1|            136|\n",
            "|     2|             87|\n",
            "|     3|            119|\n",
            "+------+---------------+\n",
            "\n"
          ]
        }
      ],
      "source": [
        "spark.sql('select Pclass,count(survived) from titanic where survived = 1 group by Pclass order by Pclass').show()"
      ]
    },
    {
      "cell_type": "code",
      "execution_count": null,
      "id": "f9a06530",
      "metadata": {
        "id": "f9a06530",
        "outputId": "3cf67de5-33ee-40d3-b585-0e114448157b"
      },
      "outputs": [
        {
          "name": "stdout",
          "output_type": "stream",
          "text": [
            "+-----------------+\n",
            "|         avg(Age)|\n",
            "+-----------------+\n",
            "|30.62617924528302|\n",
            "+-----------------+\n",
            "\n"
          ]
        }
      ],
      "source": [
        "spark.sql('select avg(Age)from titanic where survived = 0').show()"
      ]
    },
    {
      "cell_type": "code",
      "execution_count": null,
      "id": "9f5cb800",
      "metadata": {
        "id": "9f5cb800",
        "outputId": "f0b1f6c5-a3ca-4cad-ef36-ccdbd2af2df1"
      },
      "outputs": [
        {
          "name": "stdout",
          "output_type": "stream",
          "text": [
            "+---------------+\n",
            "|count(FullName)|\n",
            "+---------------+\n",
            "|              2|\n",
            "+---------------+\n",
            "\n"
          ]
        }
      ],
      "source": [
        "spark.sql(\"select count(FullName) from titanic where FullName like'%Major%'\" ).show()"
      ]
    },
    {
      "cell_type": "code",
      "execution_count": null,
      "id": "c6c53e03",
      "metadata": {
        "id": "c6c53e03",
        "outputId": "c4830771-9fd2-4644-9623-2086850cecc3"
      },
      "outputs": [
        {
          "name": "stdout",
          "output_type": "stream",
          "text": [
            "+---------------+\n",
            "|count(FullName)|\n",
            "+---------------+\n",
            "|            283|\n",
            "+---------------+\n",
            "\n"
          ]
        }
      ],
      "source": [
        "spark.sql(\"select count(FullName) from titanic where Sibsp = 0 & Parch = 0\").show()"
      ]
    },
    {
      "cell_type": "code",
      "execution_count": null,
      "id": "2a41017b",
      "metadata": {
        "id": "2a41017b",
        "outputId": "ce6e59e6-6af7-44db-82c5-8c18ad5685f2"
      },
      "outputs": [
        {
          "name": "stdout",
          "output_type": "stream",
          "text": [
            "+--------------------+----+\n",
            "|            FullName| Age|\n",
            "+--------------------+----+\n",
            "|Hewlett, Mrs. (Ma...|55.0|\n",
            "|Fynney, Mr. Joseph J|35.0|\n",
            "|Beesley, Mr. Lawr...|34.0|\n",
            "|Wheadon, Mr. Edwa...|66.0|\n",
            "|Jenkin, Mr. Steph...|32.0|\n",
            "|Doling, Mrs. John...|34.0|\n",
            "|   Kantor, Mr. Sinai|34.0|\n",
            "|Nasser, Mr. Nicholas|32.5|\n",
            "| Webber, Miss. Susan|32.5|\n",
            "|\"Navratil, Mr. Mi...|36.5|\n",
            "|Byles, Rev. Thoma...|42.0|\n",
            "|Bateman, Rev. Rob...|51.0|\n",
            "|\"Watt, Mrs. James...|40.0|\n",
            "|  Hale, Mr. Reginald|30.0|\n",
            "| Pinsky, Mrs. (Rosa)|32.0|\n",
            "|Cameron, Miss. Cl...|35.0|\n",
            "|Givard, Mr. Hans ...|30.0|\n",
            "|Jacobsohn, Mr. Si...|42.0|\n",
            "|  Harris, Mr. Walter|30.0|\n",
            "|Sjostedt, Mr. Ern...|59.0|\n",
            "+--------------------+----+\n",
            "only showing top 20 rows\n",
            "\n"
          ]
        }
      ],
      "source": [
        "spark.sql(\"select FullName,Age from titanic where Pclass = 2 and age >(select avg(age) from titanic where Pclass = 2)\").show()"
      ]
    },
    {
      "cell_type": "code",
      "execution_count": null,
      "id": "ddea7bd4",
      "metadata": {
        "id": "ddea7bd4",
        "outputId": "590b6d8b-643f-4ece-8255-04026d431d2e"
      },
      "outputs": [
        {
          "name": "stdout",
          "output_type": "stream",
          "text": [
            "+--------------------+----+--------+\n",
            "|            FullName| Age|Survived|\n",
            "+--------------------+----+--------+\n",
            "|Cumings, Mrs. Joh...|38.0|       1|\n",
            "|Nasser, Mrs. Nich...|14.0|       1|\n",
            "|Spencer, Mrs. Wil...|NULL|       1|\n",
            "|Laroche, Miss. Si...| 3.0|       1|\n",
            "|Harper, Mrs. Henr...|49.0|       1|\n",
            "|Greenfield, Mr. W...|23.0|       1|\n",
            "|Brown, Mrs. James...|44.0|       1|\n",
            "|Lurette, Miss. Elise|58.0|       1|\n",
            "|    Blank, Mr. Henry|40.0|       1|\n",
            "|Newell, Miss. Mad...|31.0|       1|\n",
            "|Bazzani, Miss. Al...|32.0|       1|\n",
            "|Thorne, Mrs. Gert...|NULL|       1|\n",
            "|    Ward, Miss. Anna|35.0|       1|\n",
            "|Bishop, Mrs. Dick...|19.0|       1|\n",
            "|Baxter, Mrs. Jame...|50.0|       1|\n",
            "|Fleming, Miss. Ma...|NULL|       1|\n",
            "|Penasco y Castell...|17.0|       1|\n",
            "|Francatelli, Miss...|30.0|       1|\n",
            "|Hays, Miss. Marga...|24.0|       1|\n",
            "|Ryerson, Miss. Em...|18.0|       1|\n",
            "+--------------------+----+--------+\n",
            "only showing top 20 rows\n",
            "\n"
          ]
        }
      ],
      "source": [
        "spark.sql(\"select FullName,Age,Survived from titanic where Embarked = 'C' and Pclass !=3 and Survived = 1 \").show()"
      ]
    },
    {
      "cell_type": "code",
      "execution_count": null,
      "id": "e1545926",
      "metadata": {
        "id": "e1545926"
      },
      "outputs": [],
      "source": [
        "import seaborn as sns\n",
        "import matplotlib.pyplot as plt"
      ]
    },
    {
      "cell_type": "code",
      "execution_count": null,
      "id": "5c177d1b",
      "metadata": {
        "id": "5c177d1b"
      },
      "outputs": [],
      "source": [
        "df1 =df1.toPandas()"
      ]
    },
    {
      "cell_type": "code",
      "execution_count": null,
      "id": "af368087",
      "metadata": {
        "id": "af368087",
        "outputId": "b3be95cb-9e29-493b-b703-c246c7a613a3"
      },
      "outputs": [
        {
          "data": {
            "text/plain": [
              "3    491\n",
              "1    216\n",
              "2    184\n",
              "Name: Pclass, dtype: int64"
            ]
          },
          "execution_count": 68,
          "metadata": {},
          "output_type": "execute_result"
        }
      ],
      "source": [
        "df1.Pclass.value_counts()"
      ]
    },
    {
      "cell_type": "code",
      "execution_count": null,
      "id": "90ef54f2",
      "metadata": {
        "id": "90ef54f2",
        "outputId": "ebbd0752-ecd6-4f65-d117-e2c77cf4e4c0"
      },
      "outputs": [
        {
          "data": {
            "text/plain": [
              "<AxesSubplot:>"
            ]
          },
          "execution_count": 69,
          "metadata": {},
          "output_type": "execute_result"
        },
        {
          "data": {
            "image/png": "[encoded data removed]",
            "text/plain": [
              "<Figure size 432x288 with 1 Axes>"
            ]
          },
          "metadata": {
            "needs_background": "light"
          },
          "output_type": "display_data"
        }
      ],
      "source": [
        "df1.Pclass.value_counts().plot(kind='bar')"
      ]
    },
    {
      "cell_type": "code",
      "execution_count": null,
      "id": "7dafa06b",
      "metadata": {
        "id": "7dafa06b"
      },
      "outputs": [],
      "source": [
        "df1[['']]"
      ]
    },
    {
      "cell_type": "code",
      "execution_count": null,
      "id": "88ad385b",
      "metadata": {
        "id": "88ad385b",
        "outputId": "e3bdc161-3a0d-4f4d-e4b2-d36f33ed542e"
      },
      "outputs": [
        {
          "data": {
            "text/plain": [
              "<AxesSubplot:>"
            ]
          },
          "execution_count": 74,
          "metadata": {},
          "output_type": "execute_result"
        },
        {
          "data": {
            "image/png": "[encoded data removed]",
            "text/plain": [
              "<Figure size 432x288 with 2 Axes>"
            ]
          },
          "metadata": {
            "needs_background": "light"
          },
          "output_type": "display_data"
        }
      ],
      "source": [
        "sns.heatmap(df1.corr(),cmap='Greens',annot=True)"
      ]
    },
    {
      "cell_type": "code",
      "execution_count": null,
      "id": "9aed61cb",
      "metadata": {
        "id": "9aed61cb",
        "outputId": "a29dba09-6484-40c6-f1f4-607465cef7ea"
      },
      "outputs": [
        {
          "data": {
            "text/plain": [
              "PassengerId      0\n",
              "Survived         0\n",
              "Pclass           0\n",
              "FullName         0\n",
              "Sex              0\n",
              "Age            177\n",
              "SibSp            0\n",
              "Parch            0\n",
              "Ticket           0\n",
              "Fare             0\n",
              "Cabin          687\n",
              "Embarked         2\n",
              "dtype: int64"
            ]
          },
          "execution_count": 75,
          "metadata": {},
          "output_type": "execute_result"
        }
      ],
      "source": [
        "df1.isnull().sum()"
      ]
    },
    {
      "cell_type": "code",
      "execution_count": null,
      "id": "e10acc21",
      "metadata": {
        "id": "e10acc21",
        "outputId": "b253911a-cde1-438e-dac5-5c42a9b17ba0"
      },
      "outputs": [
        {
          "data": {
            "text/plain": [
              "'S'"
            ]
          },
          "execution_count": 80,
          "metadata": {},
          "output_type": "execute_result"
        }
      ],
      "source": [
        "df1.Embarked.mode()[0]"
      ]
    },
    {
      "cell_type": "code",
      "execution_count": null,
      "id": "44788b0b",
      "metadata": {
        "id": "44788b0b"
      },
      "outputs": [],
      "source": [
        "import pandas as pd\n",
        "for i,data in df1.iterrows():\n",
        "    if pd.isnull(data['Embarked']):\n",
        "        df1.at[i,'Embarked']=modeval"
      ]
    },
    {
      "cell_type": "code",
      "execution_count": null,
      "id": "40df5597",
      "metadata": {
        "id": "40df5597"
      },
      "outputs": [],
      "source": [
        "import random"
      ]
    },
    {
      "cell_type": "code",
      "execution_count": null,
      "id": "62ba966b",
      "metadata": {
        "id": "62ba966b"
      },
      "outputs": [],
      "source": [
        "df1"
      ]
    },
    {
      "cell_type": "code",
      "source": [],
      "metadata": {
        "id": "LCY3jOOhcw3k"
      },
      "id": "LCY3jOOhcw3k",
      "execution_count": null,
      "outputs": []
    },
    {
      "cell_type": "markdown",
      "source": [
        "create table titanic(PassengerId int,Survived int,Pclass int,Name\n",
        "varchar(100),Sex varchar(10),Age int,SibSp int,Parch int,Ticket varchar(50),Fare\n",
        "decimal(10,2),Cabin varchar(10),Embarked varchar(10));\n"
      ],
      "metadata": {
        "id": "gyxb2TA3dde0"
      },
      "id": "gyxb2TA3dde0"
    },
    {
      "cell_type": "code",
      "source": [],
      "metadata": {
        "id": "TFa0wl94dl1C"
      },
      "id": "TFa0wl94dl1C",
      "execution_count": null,
      "outputs": []
    }
  ],
  "metadata": {
    "kernelspec": {
      "display_name": "Python 3 (ipykernel)",
      "language": "python",
      "name": "python3"
    },
    "language_info": {
      "codemirror_mode": {
        "name": "ipython",
        "version": 3
      },
      "file_extension": ".py",
      "mimetype": "text/x-python",
      "name": "python",
      "nbconvert_exporter": "python",
      "pygments_lexer": "ipython3",
      "version": "3.11.7"
    },
    "colab": {
      "provenance": []
    }
  },
  "nbformat": 4,
  "nbformat_minor": 5
}